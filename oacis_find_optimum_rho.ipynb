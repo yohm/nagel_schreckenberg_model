{
 "cells": [
  {
   "cell_type": "code",
   "execution_count": 1,
   "metadata": {},
   "outputs": [],
   "source": [
    "import os,sys\n",
    "import matplotlib.pyplot as plt\n",
    "sys.path.append( os.environ['OACIS_ROOT'] )\n",
    "import oacis"
   ]
  },
  {
   "cell_type": "code",
   "execution_count": 2,
   "metadata": {},
   "outputs": [],
   "source": [
    "sim = oacis.Simulator.find_by_name(\"NS_model\")\n",
    "host = oacis.Host.find_by_name(\"localhost\")"
   ]
  },
  {
   "cell_type": "code",
   "execution_count": 3,
   "metadata": {},
   "outputs": [
    {
     "data": {
      "text/plain": [
       "10"
      ]
     },
     "execution_count": 3,
     "metadata": {},
     "output_type": "execute_result"
    }
   ],
   "source": [
    "import numpy as np\n",
    "\n",
    "rho_values = np.linspace( 0.05, 0.5, 10)\n",
    "base_param = { \"l\": 200, \"v\": 5, \"p\": 0.1, \"t_init\": 100, \"t_measure\": 1000 }\n",
    "\n",
    "created_ps_list = []\n",
    "for rho in rho_values:\n",
    "    param = base_param.copy()\n",
    "    param['rho'] = rho\n",
    "    ps = sim.find_or_create_parameter_set( param )\n",
    "    runs = ps.find_or_create_runs_upto(1, submitted_to=host)\n",
    "    created_ps_list.append(ps)\n",
    "\n",
    "len(created_ps_list)"
   ]
  },
  {
   "cell_type": "code",
   "execution_count": 4,
   "metadata": {},
   "outputs": [
    {
     "name": "stderr",
     "output_type": "stream",
     "text": [
      "2020-01-14 06:23:22,813 - oacis.oacis_watcher - INFO - start polling\n",
      "2020-01-14 06:23:22,823 - oacis.oacis_watcher - INFO - calling callback for ('5e1d59038952347583b1d33c', '5e1d59038952347583b1d33e', '5e1d59038952347583b1d340', '5e1d59038952347583b1d342', '5e1d59038952347583b1d344', '5e1d59038952347583b1d346', '5e1d59048952347583b1d348', '5e1d59048952347583b1d34a', '5e1d59048952347583b1d34c', '5e1d59048952347583b1d34e')\n",
      "2020-01-14 06:23:22,852 - oacis.oacis_watcher - INFO - stop polling. (interrupted=False)\n"
     ]
    }
   ],
   "source": [
    "# an idiom to wait until all the parameter_sets finish\n",
    "w = oacis.OacisWatcher()\n",
    "w.watch_all_ps( created_ps_list, lambda pss: None)\n",
    "w.loop()"
   ]
  },
  {
   "cell_type": "code",
   "execution_count": 5,
   "metadata": {},
   "outputs": [
    {
     "data": {
      "text/plain": [
       "[<matplotlib.lines.Line2D at 0x7fbf4e94f550>]"
      ]
     },
     "execution_count": 5,
     "metadata": {},
     "output_type": "execute_result"
    },
    {
     "data": {
      "image/png": "[encoded data removed]",
      "text/plain": [
       "<Figure size 432x288 with 1 Axes>"
      ]
     },
     "metadata": {
      "needs_background": "light"
     },
     "output_type": "display_data"
    }
   ],
   "source": [
    "\n",
    "\n",
    "parameter_sets = sorted( created_ps_list, key= lambda ps: ps.v()['rho'] )\n",
    "x = []\n",
    "y = []\n",
    "for ps in parameter_sets:\n",
    "    x.append( ps.v()[\"rho\"] )\n",
    "    y.append( ps.average_result(\"flow\")[0] )\n",
    "    \n",
    "plt.xlabel(\"rho\")\n",
    "plt.ylabel(\"flow\")\n",
    "plt.plot(x,y, 'ro')"
   ]
  },
  {
   "cell_type": "markdown",
   "metadata": {},
   "source": [
    "## Searching an optimum $\\rho$\n",
    "\n",
    "It seems that there is an optimal $\\rho$ to maximize the traffic flow. Let us search the optimum value iteratively.\n",
    "Algorithm for searching:\n",
    "\n",
    "1. take the PS having the largest \"flow\".\n",
    "1. create two ParameterSets at the centers between its neighboring PSs.\n",
    "1. go back to 1 until we have enough resolution."
   ]
  },
  {
   "cell_type": "code",
   "execution_count": 6,
   "metadata": {},
   "outputs": [
    {
     "name": "stderr",
     "output_type": "stream",
     "text": [
      "2020-01-14 06:23:23,202 - oacis.oacis_watcher - INFO - start polling\n",
      "2020-01-14 06:23:23,220 - oacis.oacis_watcher - INFO - calling callback for ('5e1d59038952347583b1d33c', '5e1d59038952347583b1d33e', '5e1d59038952347583b1d340', '5e1d59038952347583b1d342', '5e1d59038952347583b1d344', '5e1d59038952347583b1d346', '5e1d59048952347583b1d348', '5e1d59048952347583b1d34a', '5e1d59048952347583b1d34c', '5e1d59048952347583b1d34e', '5e1d59788952347583b1d350', '5e1d598c8952347583b1d352', '5e1d598c8952347583b1d354', '5e1d59a18952347583b1d356', '5e1d59a18952347583b1d358', '5e1d59b08952347583b1d35a', '5e1d59b08952347583b1d35c', '5e1d59ba8952347583b1d35e', '5e1d59ba8952347583b1d360')\n",
      "2020-01-14 06:23:23,365 - oacis.oacis_watcher - INFO - stop polling. (interrupted=False)\n"
     ]
    },
    {
     "data": {
      "text/plain": [
       "{'l': 200,\n",
       " 'v': 5,\n",
       " 'rho': 0.15000000000000002,\n",
       " 'p': 0.1,\n",
       " 't_init': 100,\n",
       " 't_measure': 1000}"
      ]
     },
     "execution_count": 6,
     "metadata": {},
     "output_type": "execute_result"
    }
   ],
   "source": [
    "   \n",
    "def find_nearest_neighbors( ps, input_key ):\n",
    "    ps_list = list( ps.parameter_sets_with_different( input_key ) )\n",
    "    idx = ps_list.index( ps )\n",
    "    left_ps = ps_list[idx-1] if idx > 0 else None\n",
    "    right_ps = ps_list[idx+1] if idx+1 < len(ps_list) else None\n",
    "    return (left_ps, right_ps)\n",
    "\n",
    "def find_optimum_ps( sim, input_key, output_key, base_param):\n",
    "    query = { \"v.%s\"%k:v for k,v in base_param.items() if k != input_key }\n",
    "    parameter_sets = sim.parameter_sets().where( query ).to_a()\n",
    "    oacis.OacisWatcher.await_all_ps( parameter_sets )\n",
    "    sorted_by_output = sorted( parameter_sets, key=lambda ps: ps.average_result(output_key)[0] )\n",
    "    best_ps = sorted_by_output[-1]\n",
    "    return best_ps\n",
    "\n",
    "def create_a_new_ps_in_between( ps1, ps2, input_key ):\n",
    "    new_param = ps1.v()\n",
    "    new_param[input_key] = (ps1.v()[input_key] + ps2.v()[input_key]) / 2.0\n",
    "    new_ps = sim.find_or_create_parameter_set( new_param )\n",
    "    new_runs = new_ps.find_or_create_runs_upto(1, submitted_to=oacis.Host.find_by_name(\"localhost\") )\n",
    "    return new_ps\n",
    "\n",
    "def create_initial_pss(sim, input_key, base_param, domain=(0.05,0.95)):\n",
    "    param1 = base_param.copy()\n",
    "    param1[input_key] = domain[0]\n",
    "    ps1 = sim.find_or_create_parameter_set( param1 )\n",
    "    ps1.find_or_create_runs_upto(1, submitted_to=oacis.Host.find_by_name(\"localhost\") )\n",
    "    param2 = base_param.copy()\n",
    "    param2[input_key] = domain[1]\n",
    "    ps2 = sim.find_or_create_parameter_set( param2 )\n",
    "    ps2.find_or_create_runs_upto(1, submitted_to=oacis.Host.find_by_name(\"localhost\") )\n",
    "    return (ps1,ps2)\n",
    "\n",
    "def search_for_optimum( sim, input_key, output_key, base_param, resolution):\n",
    "    create_initial_pss(sim, input_key, base_param)\n",
    "    best_ps = find_optimum_ps( sim, input_key, output_key, base_param )\n",
    "    left_ps, right_ps = find_nearest_neighbors( best_ps, input_key )\n",
    "    new_ps_list = []\n",
    "    if (left_ps is not None) and abs(left_ps.v()[input_key]-best_ps.v()[input_key]) > resolution:\n",
    "        new_ps1 = create_a_new_ps_in_between( left_ps, best_ps, input_key )\n",
    "        new_ps_list.append(new_ps1)\n",
    "    if (right_ps is not None) and abs(right_ps.v()[input_key]-best_ps.v()[input_key]) > resolution:\n",
    "        new_ps2 = create_a_new_ps_in_between( right_ps, best_ps, input_key )\n",
    "        new_ps_list.append(new_ps2)\n",
    "    if len(new_ps_list) > 0:\n",
    "        return search_for_optimum( sim, input_key, output_key, base_param, resolution)\n",
    "    else:\n",
    "        return best_ps\n",
    "\n",
    "sim = oacis.Simulator.find_by_name(\"NS_model\")\n",
    "base_param = { \"l\": 200, \"v\": 5, \"p\": 0.1, \"t_init\": 100, \"t_measure\": 1000 }\n",
    "# best_ps = find_optimum_ps( sim, 'rho', 'flow', base_param)\n",
    "# print( best_ps.v() )\n",
    "# left, right = find_nearest_neighbors( best_ps, 'rho' )\n",
    "# print( left.v(), right.v() )\n",
    "# create_a_new_ps_in_between( left, best_ps, 'rho' )\n",
    "\n",
    "w = oacis.OacisWatcher()\n",
    "best_ps = None\n",
    "def f():\n",
    "    global best_ps\n",
    "    best_ps = search_for_optimum( sim, 'rho', 'flow', base_param, 0.005)\n",
    "w.do_async(f)\n",
    "w.loop()\n",
    "best_ps.v()"
   ]
  },
  {
   "cell_type": "code",
   "execution_count": 7,
   "metadata": {},
   "outputs": [
    {
     "data": {
      "image/png": "[encoded data removed]",
      "text/plain": [
       "<Figure size 432x288 with 1 Axes>"
      ]
     },
     "metadata": {
      "needs_background": "light"
     },
     "output_type": "display_data"
    }
   ],
   "source": [
    "def plot_rho_flow_diagram( best_ps ):\n",
    "    import matplotlib.pyplot as plt\n",
    "    parameter_sets = best_ps.parameter_sets_with_different( 'rho' )\n",
    "    x = []\n",
    "    y = []\n",
    "    for ps in parameter_sets:\n",
    "        x.append( ps.v()[\"rho\"] )\n",
    "        y.append( ps.average_result(\"flow\")[0] )\n",
    "    plt.xlabel(\"rho\")\n",
    "    plt.ylabel(\"flow\")\n",
    "    plt.plot(x,y, 'ro')\n",
    "    \n",
    "plot_rho_flow_diagram(best_ps)"
   ]
  },
  {
   "cell_type": "code",
   "execution_count": 8,
   "metadata": {},
   "outputs": [
    {
     "name": "stderr",
     "output_type": "stream",
     "text": [
      "2020-01-14 06:23:24,068 - oacis.oacis_watcher - INFO - start polling\n",
      "2020-01-14 06:23:24,123 - oacis.oacis_watcher - INFO - calling callback for ('5e1d5a628952347583b1d362', '5e1d5a628952347583b1d364', '5e1d5a878952347583b1d39a', '5e1d5b0d8952347583b1d3b4', '5e1d5b0d8952347583b1d3b6', '5e1d5b6c8952347583b1d3e6', '5e1d5b6d8952347583b1d3e8', '5e1d5bee8952347583b1d418', '5e1d5bee8952347583b1d41a', '5e1d5c528952347583b1d44e', '5e1d5c528952347583b1d450', '5e1d5c988952347583b1d484', '5e1d5c988952347583b1d486', '5e1d5cf18952347583b1d4bc', '5e1d5cf18952347583b1d4be', '5e1d5d378952347583b1d4f4', '5e1d5d378952347583b1d4f6')\n",
      "2020-01-14 06:23:24,214 - oacis.oacis_watcher - INFO - calling callback for ('5e1d5a628952347583b1d366', '5e1d5a628952347583b1d368', '5e1d5a878952347583b1d39c', '5e1d5b1d8952347583b1d3ba', '5e1d5b1d8952347583b1d3bc', '5e1d5b818952347583b1d3ea', '5e1d5b818952347583b1d3ec', '5e1d5bf48952347583b1d420', '5e1d5bf48952347583b1d422', '5e1d5c5d8952347583b1d456', '5e1d5c5d8952347583b1d458', '5e1d5cae8952347583b1d490', '5e1d5cae8952347583b1d492', '5e1d5cf38952347583b1d4c8', '5e1d5cf38952347583b1d4ca', '5e1d5d438952347583b1d500', '5e1d5d438952347583b1d502')\n",
      "2020-01-14 06:23:24,311 - oacis.oacis_watcher - INFO - calling callback for ('5e1d59038952347583b1d33c', '5e1d59038952347583b1d33e', '5e1d59038952347583b1d340', '5e1d59038952347583b1d342', '5e1d59038952347583b1d344', '5e1d59038952347583b1d346', '5e1d59048952347583b1d348', '5e1d59048952347583b1d34a', '5e1d59048952347583b1d34c', '5e1d59048952347583b1d34e', '5e1d59788952347583b1d350', '5e1d598c8952347583b1d352', '5e1d598c8952347583b1d354', '5e1d59a18952347583b1d356', '5e1d59a18952347583b1d358', '5e1d59b08952347583b1d35a', '5e1d59b08952347583b1d35c', '5e1d59ba8952347583b1d35e', '5e1d59ba8952347583b1d360')\n",
      "2020-01-14 06:23:24,430 - oacis.oacis_watcher - INFO - calling callback for ('5e1d5a628952347583b1d36a', '5e1d5a628952347583b1d36c', '5e1d5a978952347583b1d39e', '5e1d5b1d8952347583b1d3be', '5e1d5b1d8952347583b1d3c0', '5e1d5ba08952347583b1d3ee', '5e1d5ba08952347583b1d3f0', '5e1d5c0e8952347583b1d424', '5e1d5c0e8952347583b1d426', '5e1d5c638952347583b1d45a', '5e1d5c638952347583b1d45c', '5e1d5caf8952347583b1d494', '5e1d5caf8952347583b1d496', '5e1d5cf98952347583b1d4cc', '5e1d5cf98952347583b1d4ce', '5e1d5d448952347583b1d504', '5e1d5d448952347583b1d506')\n",
      "2020-01-14 06:23:24,527 - oacis.oacis_watcher - INFO - calling callback for ('5e1d5a628952347583b1d36e', '5e1d5a628952347583b1d370', '5e1d5aa18952347583b1d3a0', '5e1d5b1e8952347583b1d3c2', '5e1d5b1e8952347583b1d3c4', '5e1d5bab8952347583b1d3f2', '5e1d5bab8952347583b1d3f4', '5e1d5c0f8952347583b1d428', '5e1d5c0f8952347583b1d42a', '5e1d5c648952347583b1d45e', '5e1d5c648952347583b1d460', '5e1d5ca88952347583b1d488', '5e1d5ca88952347583b1d48a', '5e1d5cf28952347583b1d4c0', '5e1d5cf28952347583b1d4c2', '5e1d5d388952347583b1d4f8', '5e1d5d388952347583b1d4fa')\n",
      "2020-01-14 06:23:24,625 - oacis.oacis_watcher - INFO - calling callback for ('5e1d5a628952347583b1d372', '5e1d5a628952347583b1d374', '5e1d5aa68952347583b1d3a2', '5e1d5b2d8952347583b1d3c6', '5e1d5b2d8952347583b1d3c8', '5e1d5bac8952347583b1d3f6', '5e1d5bac8952347583b1d3f8', '5e1d5c1a8952347583b1d42c', '5e1d5c1a8952347583b1d42e', '5e1d5c6f8952347583b1d462', '5e1d5c6f8952347583b1d464', '5e1d5cc58952347583b1d49c', '5e1d5cc58952347583b1d49e', '5e1d5d0a8952347583b1d4d4', '5e1d5d0a8952347583b1d4d6', '5e1d5d508952347583b1d50c', '5e1d5d508952347583b1d50e')\n",
      "2020-01-14 06:23:24,738 - oacis.oacis_watcher - INFO - calling callback for ('5e1d5a628952347583b1d376', '5e1d5a628952347583b1d378', '5e1d5abb8952347583b1d3a4', '5e1d5b388952347583b1d3ce', '5e1d5b388952347583b1d3d0', '5e1d5bcc8952347583b1d402', '5e1d5bcc8952347583b1d404', '5e1d5c258952347583b1d434', '5e1d5c258952347583b1d436', '5e1d5c7a8952347583b1d46a', '5e1d5c7a8952347583b1d46c', '5e1d5cc68952347583b1d4a4', '5e1d5cc68952347583b1d4a6', '5e1d5d0a8952347583b1d4dc', '5e1d5d0a8952347583b1d4de', '5e1d5d5b8952347583b1d514', '5e1d5d5b8952347583b1d516')\n",
      "2020-01-14 06:23:24,849 - oacis.oacis_watcher - INFO - calling callback for ('5e1d5a628952347583b1d37a', '5e1d5a628952347583b1d37c', '5e1d5ac58952347583b1d3a6', '5e1d5b388952347583b1d3d2', '5e1d5b388952347583b1d3d4', '5e1d5bd78952347583b1d406', '5e1d5bd78952347583b1d408', '5e1d5c368952347583b1d43c', '5e1d5c368952347583b1d43e', '5e1d5c808952347583b1d474', '5e1d5c818952347583b1d476', '5e1d5cd78952347583b1d4ac', '5e1d5cd78952347583b1d4ae', '5e1d5d268952347583b1d4e8', '5e1d5d268952347583b1d4ea', '5e1d5d678952347583b1d520', '5e1d5d678952347583b1d522')\n",
      "2020-01-14 06:23:24,948 - oacis.oacis_watcher - INFO - calling callback for ('5e1d5a628952347583b1d37e', '5e1d5a628952347583b1d380', '5e1d5aca8952347583b1d3a8', '5e1d5b338952347583b1d3ca', '5e1d5b338952347583b1d3cc', '5e1d5bbb8952347583b1d3fa', '5e1d5bbc8952347583b1d3fc', '5e1d5c1a8952347583b1d430', '5e1d5c1a8952347583b1d432', '5e1d5c798952347583b1d466', '5e1d5c798952347583b1d468', '5e1d5cc58952347583b1d4a0', '5e1d5cc68952347583b1d4a2', '5e1d5d0a8952347583b1d4d8', '5e1d5d0a8952347583b1d4da', '5e1d5d5a8952347583b1d510', '5e1d5d5b8952347583b1d512')\n",
      "2020-01-14 06:23:25,052 - oacis.oacis_watcher - INFO - calling callback for ('5e1d5a628952347583b1d382', '5e1d5a628952347583b1d384', '5e1d5ad58952347583b1d3aa', '5e1d5b488952347583b1d3d6', '5e1d5bc68952347583b1d3fe', '5e1d5bc78952347583b1d400', '5e1d5c268952347583b1d438', '5e1d5c268952347583b1d43a', '5e1d5c7a8952347583b1d46e', '5e1d5c7a8952347583b1d470', '5e1d5cbf8952347583b1d498', '5e1d5cbf8952347583b1d49a', '5e1d5d098952347583b1d4d0', '5e1d5d098952347583b1d4d2', '5e1d5d4a8952347583b1d508', '5e1d5d4a8952347583b1d50a')\n",
      "2020-01-14 06:23:25,152 - oacis.oacis_watcher - INFO - calling callback for ('5e1d5a638952347583b1d386', '5e1d5a638952347583b1d388', '5e1d5adf8952347583b1d3ac', '5e1d5b4d8952347583b1d3d8', '5e1d5b4d8952347583b1d3da', '5e1d5be38952347583b1d414', '5e1d5be38952347583b1d416', '5e1d5c518952347583b1d44a', '5e1d5c528952347583b1d44c', '5e1d5c908952347583b1d478', '5e1d5c918952347583b1d47a', '5e1d5cd78952347583b1d4b0', '5e1d5cd78952347583b1d4b2', '5e1d5d208952347583b1d4e4', '5e1d5d208952347583b1d4e6', '5e1d5d618952347583b1d51c', '5e1d5d618952347583b1d51e')\n",
      "2020-01-14 06:23:25,250 - oacis.oacis_watcher - INFO - calling callback for ('5e1d5a638952347583b1d38a', '5e1d5a638952347583b1d38c', '5e1d5aee8952347583b1d3ae', '5e1d5b4d8952347583b1d3dc', '5e1d5b4d8952347583b1d3de', '5e1d5bf38952347583b1d41c', '5e1d5bf48952347583b1d41e', '5e1d5c528952347583b1d452', '5e1d5c538952347583b1d454', '5e1d5cad8952347583b1d48c', '5e1d5cae8952347583b1d48e', '5e1d5cf28952347583b1d4c4', '5e1d5cf28952347583b1d4c6', '5e1d5d388952347583b1d4fc', '5e1d5d388952347583b1d4fe', '5e1d5d838952347583b1d52c', '5e1d5d838952347583b1d52e')\n",
      "2020-01-14 06:23:25,343 - oacis.oacis_watcher - INFO - calling callback for ('5e1d5a638952347583b1d38e', '5e1d5a638952347583b1d390', '5e1d5b038952347583b1d3b0', '5e1d5b4d8952347583b1d3e0', '5e1d5be28952347583b1d40a', '5e1d5be28952347583b1d40c', '5e1d5c478952347583b1d446', '5e1d5c478952347583b1d448', '5e1d5c978952347583b1d480', '5e1d5c978952347583b1d482', '5e1d5cd88952347583b1d4b8', '5e1d5cd88952347583b1d4ba', '5e1d5d2c8952347583b1d4f0', '5e1d5d2c8952347583b1d4f2', '5e1d5d6d8952347583b1d528', '5e1d5d6d8952347583b1d52a')\n",
      "2020-01-14 06:23:25,435 - oacis.oacis_watcher - INFO - calling callback for ('5e1d5a638952347583b1d392', '5e1d5a638952347583b1d394', '5e1d5b038952347583b1d3b2', '5e1d5b628952347583b1d3e2', '5e1d5be28952347583b1d40e', '5e1d5be28952347583b1d410', '5e1d5c418952347583b1d442', '5e1d5c418952347583b1d444', '5e1d5c968952347583b1d47c', '5e1d5c968952347583b1d47e', '5e1d5cd78952347583b1d4b4', '5e1d5cd78952347583b1d4b6', '5e1d5d268952347583b1d4ec', '5e1d5d268952347583b1d4ee', '5e1d5d6d8952347583b1d524', '5e1d5d6d8952347583b1d526')\n",
      "2020-01-14 06:23:25,536 - oacis.oacis_watcher - INFO - calling callback for ('5e1d5a638952347583b1d396', '5e1d5a638952347583b1d398', '5e1d5b188952347583b1d3b8', '5e1d5b678952347583b1d3e4', '5e1d5be38952347583b1d412', '5e1d5c368952347583b1d440', '5e1d5c7b8952347583b1d472', '5e1d5cc78952347583b1d4a8', '5e1d5cc78952347583b1d4aa', '5e1d5d1f8952347583b1d4e0', '5e1d5d1f8952347583b1d4e2', '5e1d5d5b8952347583b1d518', '5e1d5d5b8952347583b1d51a')\n",
      "2020-01-14 06:23:25,626 - oacis.oacis_watcher - INFO - stop polling. (interrupted=False)\n"
     ]
    },
    {
     "data": {
      "text/plain": [
       "{(0.1, 3): 0.24335937500000002,\n",
       " (0.1, 4): 0.190625,\n",
       " (0.1, 5): 0.15000000000000002,\n",
       " (0.1, 6): 0.13789062500000002,\n",
       " (0.1, 7): 0.12031250000000002,\n",
       " (0.3, 3): 0.22578125,\n",
       " (0.3, 4): 0.1484375,\n",
       " (0.3, 5): 0.12734375000000003,\n",
       " (0.3, 6): 0.10625000000000001,\n",
       " (0.3, 7): 0.0921875,\n",
       " (0.5, 3): 0.1484375,\n",
       " (0.5, 4): 0.11328125000000001,\n",
       " (0.5, 5): 0.0921875,\n",
       " (0.5, 6): 0.081640625,\n",
       " (0.5, 7): 0.074609375}"
      ]
     },
     "execution_count": 8,
     "metadata": {},
     "output_type": "execute_result"
    }
   ],
   "source": [
    "from functools import partial\n",
    "sim = oacis.Simulator.find_by_name(\"NS_model\")\n",
    "p_list = [0.1, 0.3, 0.5]\n",
    "v_list = [3,4,5,6,7]\n",
    "w = oacis.OacisWatcher()\n",
    "best_ps_dict = {}\n",
    "\n",
    "def best_rho(v, p):\n",
    "    base_param = { \"l\": 200, \"v\": v, \"p\": p, \"t_init\": 100, \"t_measure\": 1000 }\n",
    "    best_ps = search_for_optimum( sim, 'rho', 'flow', base_param, 0.005)\n",
    "    best_ps_dict[(p,v)] = best_ps.v()['rho']\n",
    "\n",
    "for p in p_list:\n",
    "    for v in v_list:\n",
    "        f = partial( best_rho, v, p )\n",
    "        w.do_async(f)\n",
    "w.loop()\n",
    "\n",
    "best_ps_dict"
   ]
  },
  {
   "cell_type": "code",
   "execution_count": 9,
   "metadata": {},
   "outputs": [
    {
     "data": {
      "image/png": "[encoded data removed]",
      "text/plain": [
       "<Figure size 432x288 with 1 Axes>"
      ]
     },
     "metadata": {
      "needs_background": "light"
     },
     "output_type": "display_data"
    }
   ],
   "source": [
    "# After searching we plot the optimal rho for each v and p.\n",
    "plt.figure()\n",
    "plt.xlabel('v')\n",
    "plt.ylabel('Optimum rho')\n",
    "\n",
    "for p in p_list:\n",
    "    opt_rho_list = []\n",
    "    for v in v_list:\n",
    "        opt_rho = best_ps_dict[ (p,v) ]\n",
    "        opt_rho_list.append( opt_rho )\n",
    "    plt.plot( v_list, opt_rho_list, 'o-', label=\"p=%f\"%p )\n",
    "plt.legend(loc='best')\n",
    "plt.show()"
   ]
  },
  {
   "cell_type": "code",
   "execution_count": null,
   "metadata": {},
   "outputs": [],
   "source": []
  }
 ],
 "metadata": {
  "kernelspec": {
   "display_name": "Python 3",
   "language": "python",
   "name": "python3"
  },
  "language_info": {
   "codemirror_mode": {
    "name": "ipython",
    "version": 3
   },
   "file_extension": ".py",
   "mimetype": "text/x-python",
   "name": "python",
   "nbconvert_exporter": "python",
   "pygments_lexer": "ipython3",
   "version": "3.6.9"
  }
 },
 "nbformat": 4,
 "nbformat_minor": 2
}
